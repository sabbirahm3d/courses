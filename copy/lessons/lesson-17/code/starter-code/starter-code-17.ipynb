{
 "cells": [
  {
   "cell_type": "markdown",
   "metadata": {},
   "source": [
    "# Class 17 - Starter Code\n",
    "\n",
    "SQL Databases"
   ]
  },
  {
   "cell_type": "code",
   "execution_count": null,
   "metadata": {
    "collapsed": true
   },
   "outputs": [],
   "source": [
    "import pandas as pd\n",
    "from pandas.io import sql"
   ]
  },
  {
   "cell_type": "markdown",
   "metadata": {},
   "source": [
    "Pandas can be used to connect to most relational databases. In this demonstration, we will create and connect to a SQLite database. SQLite creates portable SQL databases saved in a single file. These databases are stored in a very efficient manner and allow fast querying, making them ideal for small databases or databases that need to be moved across machines.\n",
    "\n",
    "If you are looking to start using a database without the setup of `mysql` or `postgres`, SQLite is a good start."
   ]
  },
  {
   "cell_type": "markdown",
   "metadata": {},
   "source": [
    "# Part 1: SQLite DB for Rossman Store Data\n",
    "\n",
    "[SQLite](http://www.sqlite.org)\n",
    "\n",
    "Let's return to the Rossmann sales data and load that into the database.\n",
    "\n",
    "Data is moved to the database through the `to_sql` command, similar to the `to_csv` command.\n",
    "\n",
    "Pandas `to_sql` takes as arugments:\n",
    "    - `name`, the table name to create\n",
    "    - `con`, a connection to a database\n",
    "    - `index`, whether to input the index column\n",
    "    - `schema`, if we want to write a custom schema for the new table\n",
    "    - `if_exists`, what to do if the table already exists. We can overwrite it, add to it, or fail\n",
    "    \n",
    "SQLite can execute the following SQL commands: [https://www.sqlite.org/lang.html](https://www.sqlite.org/lang.html)"
   ]
  },
  {
   "cell_type": "code",
   "execution_count": null,
   "metadata": {
    "collapsed": false
   },
   "outputs": [],
   "source": [
    "import sqlite3"
   ]
  },
  {
   "cell_type": "code",
   "execution_count": null,
   "metadata": {
    "collapsed": false
   },
   "outputs": [],
   "source": [
    "# Create a new SQLite DB and establish connection\n",
    "conn = sqlite3.connect('dat-test.db')"
   ]
  },
  {
   "cell_type": "markdown",
   "metadata": {},
   "source": [
    "### Load the Rossmann Store sales data in `rossmann.csv` and create a table into the database"
   ]
  },
  {
   "cell_type": "code",
   "execution_count": null,
   "metadata": {
    "collapsed": false
   },
   "outputs": [],
   "source": [
    "# Load data from CSV\n",
    "rossmann_sales = pd.read_csv('../../../lesson-15/assets/dataset/rossmann.csv', low_memory=False)\n",
    "rossmann_sales.head()"
   ]
  },
  {
   "cell_type": "code",
   "execution_count": null,
   "metadata": {
    "collapsed": false
   },
   "outputs": [],
   "source": [
    "# Write data to DB\n",
    "rossmann_sales.to_sql('rossmann_sales',\n",
    "            con=conn,\n",
    "            if_exists='replace',\n",
    "            index=False)"
   ]
  },
  {
   "cell_type": "markdown",
   "metadata": {},
   "source": [
    "### Check table schema for `rossmann_sales`"
   ]
  },
  {
   "cell_type": "code",
   "execution_count": null,
   "metadata": {
    "collapsed": false
   },
   "outputs": [],
   "source": [
    "sql.read_sql(\n",
    "\"\"\"\n",
    "PRAGMA table_info('rossmann_sales');\n",
    "\"\"\", con=conn)"
   ]
  },
  {
   "cell_type": "markdown",
   "metadata": {},
   "source": [
    "### Query all columns in `rossmann_sales`"
   ]
  },
  {
   "cell_type": "code",
   "execution_count": null,
   "metadata": {
    "collapsed": false
   },
   "outputs": [],
   "source": [
    "# Load data from DB\n",
    "sql.read_sql('select * from rossmann_sales limit 5', con=conn)"
   ]
  },
  {
   "cell_type": "markdown",
   "metadata": {},
   "source": [
    "### CHECK: Load the Rossmann Store metadata in `rossmann-stores.csv` and create a table into the database"
   ]
  },
  {
   "cell_type": "code",
   "execution_count": null,
   "metadata": {
    "collapsed": true
   },
   "outputs": [],
   "source": [
    "# Load data from CSV\n",
    "rossmann_stores = pd.read_csv('../../assets/dataset/rossmann-stores.csv')\n",
    "\n",
    "# Write data to DB\n",
    "rossmann_stores.### FILL IN ###"
   ]
  },
  {
   "cell_type": "markdown",
   "metadata": {},
   "source": [
    "### CHECK: Check table schema for `rossmann_stores`"
   ]
  },
  {
   "cell_type": "code",
   "execution_count": null,
   "metadata": {
    "collapsed": false
   },
   "outputs": [],
   "source": [
    "sql.### FILL IN ###"
   ]
  },
  {
   "cell_type": "markdown",
   "metadata": {},
   "source": [
    "### CHECK: Query all columns in `rossmann_stores`"
   ]
  },
  {
   "cell_type": "code",
   "execution_count": null,
   "metadata": {
    "collapsed": false
   },
   "outputs": [],
   "source": [
    "# Load data from DB\n",
    "### FILL IN ###"
   ]
  },
  {
   "cell_type": "markdown",
   "metadata": {},
   "source": [
    "### DEMO: (SELECT) Write a query that returns the `Store`, `Date` and `Customers`"
   ]
  },
  {
   "cell_type": "code",
   "execution_count": null,
   "metadata": {
    "collapsed": false
   },
   "outputs": [],
   "source": [
    "sql.read_sql(\n",
    "\"\"\"\n",
    "SELECT \n",
    "Store, Date, Customers \n",
    "FROM rossmann_sales;\n",
    "\"\"\", con=conn).head()"
   ]
  },
  {
   "cell_type": "markdown",
   "metadata": {},
   "source": [
    "### DEMO: (WHERE) Have the students write a query that returns the `Store`, `Date` and `Customers` for when the stores were open and running a promotion"
   ]
  },
  {
   "cell_type": "code",
   "execution_count": null,
   "metadata": {
    "collapsed": false
   },
   "outputs": [],
   "source": [
    "sql.read_sql(\n",
    "\"\"\"\n",
    "SELECT \n",
    "Store, Date, Customers \n",
    "FROM rossmann_sales\n",
    "WHERE Open = 1 and Promo = 1;\n",
    "\"\"\", con=conn).head()"
   ]
  },
  {
   "cell_type": "markdown",
   "metadata": {},
   "source": [
    "### DEMO: (GROUP BY) Have the students write a query that returns the total sales on promotion days."
   ]
  },
  {
   "cell_type": "code",
   "execution_count": null,
   "metadata": {
    "collapsed": false
   },
   "outputs": [],
   "source": [
    "sql.read_sql(\n",
    "\"\"\"\n",
    "SELECT\n",
    "Promo, SUM(Sales)\n",
    "FROM rossmann_sales\n",
    "GROUP BY Promo\n",
    "\"\"\", con=conn).head()"
   ]
  },
  {
   "cell_type": "markdown",
   "metadata": {},
   "source": [
    "### DEMO: (JOIN) Select Store, Customers, from `rossmann_sales` and StoreType from `rossmann_stores`"
   ]
  },
  {
   "cell_type": "code",
   "execution_count": null,
   "metadata": {
    "collapsed": false
   },
   "outputs": [],
   "source": [
    "# Select the Store, Customers, and StoreType\n",
    "query = \"\"\"\n",
    "SELECT \n",
    "t1.Store, t1.Customers, t2.StoreType\n",
    "FROM rossmann_sales as t1\n",
    "JOIN rossmann_stores as t2\n",
    "ON t1.Store = t2.Store\n",
    "\"\"\"\n",
    "sql.read_sql(query, con = conn).head()"
   ]
  },
  {
   "cell_type": "markdown",
   "metadata": {},
   "source": [
    "# Part 2: [EXERCISE] SQLite DB for Walmart Store Data\n",
    "\n",
    "### Exercises\n",
    "1. Load the Walmart sales and store features data\n",
    "1. Create a table for each of those datasets\n",
    "1. Select the store, date and fuel price on days it was over 90 degrees\n",
    "1. Select the store, date and weekly sales and temperature\n",
    "1. What were average sales on holiday vs. non-holiday sales\n",
    "1. What were average sales on holiday vs. non-holiday sales when the temperature was below 32 degrees"
   ]
  },
  {
   "cell_type": "markdown",
   "metadata": {},
   "source": [
    "### 2.1 Load the Walmart sales and store features data"
   ]
  },
  {
   "cell_type": "code",
   "execution_count": null,
   "metadata": {
    "collapsed": false
   },
   "outputs": [],
   "source": [
    "# Load the Walmart sales and store features data\n",
    "walmart_sales = pd.read_csv('../../assets/dataset/walmart-sales.csv')\n",
    "walmart_sales.head()\n",
    "\n",
    "walmart_features = pd.read_csv('../../assets/dataset/features.csv')\n",
    "walmart_features.head()"
   ]
  },
  {
   "cell_type": "markdown",
   "metadata": {},
   "source": [
    "### 2.2 Create a table for each of those datasets"
   ]
  },
  {
   "cell_type": "code",
   "execution_count": null,
   "metadata": {
    "collapsed": true
   },
   "outputs": [],
   "source": [
    "# Create a table for each of those datasets\n",
    "walmart_sales.### FILL IN ###\n",
    "walmart_features.### FILL IN ###"
   ]
  },
  {
   "cell_type": "code",
   "execution_count": null,
   "metadata": {
    "collapsed": false
   },
   "outputs": [],
   "source": [
    "sql.read_sql(\n",
    "\"\"\"\n",
    "PRAGMA table_info('walmart_sales');\n",
    "\"\"\", con=conn)"
   ]
  },
  {
   "cell_type": "code",
   "execution_count": null,
   "metadata": {
    "collapsed": false
   },
   "outputs": [],
   "source": [
    "sql.read_sql(\n",
    "\"\"\"\n",
    "PRAGMA table_info('walmart_features');\n",
    "\"\"\", con=conn)"
   ]
  },
  {
   "cell_type": "markdown",
   "metadata": {},
   "source": [
    "### 2.3 Select the store, date and fuel price on days it was over 90 degrees\n",
    "\n",
    "HINT: Use WHERE"
   ]
  },
  {
   "cell_type": "code",
   "execution_count": null,
   "metadata": {
    "collapsed": false
   },
   "outputs": [],
   "source": [
    "# Select the store, date and fuel price on days it was over 90 degrees\n",
    "query = \"\"\"\n",
    "SELECT \n",
    "### FILL IN ###\n",
    "\"\"\"\n",
    "sql.read_sql(query, con = conn).head()"
   ]
  },
  {
   "cell_type": "markdown",
   "metadata": {},
   "source": [
    "### 2.4 Select the store, date and weekly sales and temperature\n",
    "\n",
    "HINT: Use JOIN"
   ]
  },
  {
   "cell_type": "code",
   "execution_count": null,
   "metadata": {
    "collapsed": false
   },
   "outputs": [],
   "source": [
    "# Select the store, date and weekly sales and temperature\n",
    "query = \"\"\"\n",
    "### FILL IN ###\n",
    "\"\"\"\n",
    "sql.read_sql(query, con = conn).head()"
   ]
  },
  {
   "cell_type": "markdown",
   "metadata": {},
   "source": [
    "### 2.5 What were average sales on holiday vs. non-holiday sales\n",
    "\n",
    "HINT: Use GROUP BY"
   ]
  },
  {
   "cell_type": "code",
   "execution_count": null,
   "metadata": {
    "collapsed": false
   },
   "outputs": [],
   "source": [
    "# What were average sales on holiday vs. non-holiday sales\n",
    "query = \"\"\"\n",
    "### FILL IN ###\n",
    "\"\"\"\n",
    "sql.read_sql(query, con = conn)"
   ]
  },
  {
   "cell_type": "markdown",
   "metadata": {},
   "source": [
    "### 2.6 What were average sales on holiday vs. non-holiday sales when the temperature was below 32 degrees\n",
    "\n",
    "HINT: Use JOIN, WHERE, and GROUP BY"
   ]
  },
  {
   "cell_type": "code",
   "execution_count": null,
   "metadata": {
    "collapsed": false
   },
   "outputs": [],
   "source": [
    "# What were average sales on holiday vs. non-holiday sales when the temperature was below 32 degrees\n",
    "query = \"\"\"\n",
    "### FILL IN ###\n",
    "\"\"\"\n",
    "sql.read_sql(query, con = conn)"
   ]
  },
  {
   "cell_type": "code",
   "execution_count": null,
   "metadata": {
    "collapsed": true
   },
   "outputs": [],
   "source": []
  }
 ],
 "metadata": {
  "kernelspec": {
   "display_name": "Python 2",
   "language": "python",
   "name": "python2"
  },
  "language_info": {
   "codemirror_mode": {
    "name": "ipython",
    "version": 2
   },
   "file_extension": ".py",
   "mimetype": "text/x-python",
   "name": "python",
   "nbconvert_exporter": "python",
   "pygments_lexer": "ipython2",
   "version": "2.7.11"
  }
 },
 "nbformat": 4,
 "nbformat_minor": 0
}
