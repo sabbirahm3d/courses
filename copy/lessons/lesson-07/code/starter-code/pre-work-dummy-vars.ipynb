{
 "cells": [
  {
   "cell_type": "markdown",
   "metadata": {},
   "source": [
    "# Pre-Work: Dummy Variables"
   ]
  },
  {
   "cell_type": "markdown",
   "metadata": {},
   "source": [
    "#### What are dummy variables?\n",
    "Dummy variables are a set of variables that takes the value 0 or 1 to indicate the presence or absence of each category in a catergorical variable.\n",
    "\n",
    "#### Why do we need dummy variables?\n",
    "Most machine learning techniques will only accept numberical values as inputs as will not accept string objects.\n",
    "\n",
    "For example, most machine learning techniques will not accept the variable `state = ['DC', 'VA', 'MD']` but will understand the corresponding dummy variables `state_DC = [0, 1]`, `state_VA = [0, 1]`, and `state_MD = [0, 1]`, where `0` indicates absence of that category and `1` indicates presence.\n",
    "\n",
    "| state | state_DC | state_VA | state_MD |\n",
    "|-------|----------|----------|----------|\n",
    "| DC    | 1        | 0        | 0        |\n",
    "| VA    | 0        | 1        | 0        |\n",
    "| MD    | 0        | 0        | 1        |\n",
    "\n",
    "#### Why are numerical values sometimes converted to dummy variables?\n",
    "If a variable takes on numerical values, but the values themselves do not imply an order, then they can be treated as categorical values and converted to dummy variables.\n",
    "\n",
    "For example, consider a variable which holds internet socket port numbers used in network communications and can take on values form the list `ports = [20, 22, 25, 80]`. Port 20 is typically used for FTP traffic and port 80 is typically used for web traffic. There is no implied meaning that port 80 is 4 times as much as port 20. Here it is better to treat ports as a categorical variable and used dummy variables. Read more about port numbers [here](https://en.wikipedia.org/wiki/List_of_TCP_and_UDP_port_numbers).\n",
    "\n",
    "#### Is there an easy way to create dummy variables?\n",
    "Yes, pandas `pd.get_dummies()` makes it really easy to make dummy variables. Read the API docs for the function [here](http://pandas.pydata.org/pandas-docs/stable/generated/pandas.get_dummies.html)."
   ]
  },
  {
   "cell_type": "code",
   "execution_count": null,
   "metadata": {
    "collapsed": true
   },
   "outputs": [],
   "source": [
    "import numpy as np\n",
    "import pandas as pd\n",
    "\n",
    "from sklearn import linear_model"
   ]
  },
  {
   "cell_type": "markdown",
   "metadata": {},
   "source": [
    "### Let's use the bikeshare data to demonstrate dummy variables"
   ]
  },
  {
   "cell_type": "code",
   "execution_count": null,
   "metadata": {
    "collapsed": false
   },
   "outputs": [],
   "source": [
    "# load bikeshare data\n",
    "wd = '../../assets/dataset/bikeshare/'\n",
    "bike_data = pd.read_csv(wd + 'bikeshare.csv')\n",
    "bike_data.head()"
   ]
  },
  {
   "cell_type": "code",
   "execution_count": null,
   "metadata": {
    "collapsed": false,
    "scrolled": true
   },
   "outputs": [],
   "source": [
    "# get details about the bikeshare data\n",
    "with open(wd + 'bikeshare.txt') as f:\n",
    "    print f.read()"
   ]
  },
  {
   "cell_type": "markdown",
   "metadata": {},
   "source": [
    "### Check the data types of all columns"
   ]
  },
  {
   "cell_type": "code",
   "execution_count": null,
   "metadata": {
    "collapsed": false
   },
   "outputs": [],
   "source": [
    "bike_data.dtypes"
   ]
  },
  {
   "cell_type": "markdown",
   "metadata": {},
   "source": [
    "### All columns that are to be used to fit the model need to be numerical (int or float).\n",
    "Here `dteday` is not numerical and must be removed or converted to numerical. Dates are not always useful as a feature. It is often better to convert dates to weekday, which is what is contained in the `weekday` column. If you are interested in knowing how a date can be converted to a weekday number, see the code section below. It uses the `weekday()` function from the `datetime` package. Read more about it [here](https://docs.python.org/2/library/datetime.html#datetime.date.weekday)."
   ]
  },
  {
   "cell_type": "code",
   "execution_count": null,
   "metadata": {
    "collapsed": false
   },
   "outputs": [],
   "source": [
    "from datetime import datetime\n",
    "\n",
    "# this check allows this code to be run multiple times\n",
    "if 'dteday' in bike_data.columns:\n",
    "    # Convert date to weekday\n",
    "    bike_data['weekday'] = bike_data['dteday'].apply(lambda x: datetime.strptime(x, '%Y-%m-%d').weekday())\n",
    "    # Remove dteday\n",
    "    bike_data.drop(['dteday'], axis=1, inplace=True)"
   ]
  },
  {
   "cell_type": "markdown",
   "metadata": {},
   "source": [
    "### Now let's get dummy variables for weekday\n",
    "\n",
    "As previously mentioned, even though weekday is a number, perhaps it is better to treat it as a categorical variable and create dummy variables."
   ]
  },
  {
   "cell_type": "code",
   "execution_count": null,
   "metadata": {
    "collapsed": true
   },
   "outputs": [],
   "source": [
    "# this check allows this code to be run multiple times\n",
    "if 'weekday' in bike_data.columns:\n",
    "    # get dummy variables for weekday\n",
    "    bike_data = bike_data.join(pd.get_dummies(bike_data['weekday'], prefix='weekday'))\n",
    "    # remove weekday\n",
    "    bike_data.drop(['weekday'], axis=1, inplace=True)"
   ]
  },
  {
   "cell_type": "markdown",
   "metadata": {},
   "source": [
    "### Now we're ready to train a model"
   ]
  },
  {
   "cell_type": "code",
   "execution_count": null,
   "metadata": {
    "collapsed": false
   },
   "outputs": [],
   "source": [
    "# set independent variables\n",
    "# here you can manually choose which columns to use\n",
    "# X = bike_data[['season', 'temp']]\n",
    "# or remove the columns you do not want to use\n",
    "X = bike_data.drop(['casual', 'registered', 'cnt'], axis=1)\n",
    "\n",
    "# set dependent variable\n",
    "y = bike_data['registered']"
   ]
  },
  {
   "cell_type": "code",
   "execution_count": null,
   "metadata": {
    "collapsed": false
   },
   "outputs": [],
   "source": [
    "# Create linear regression object\n",
    "lm = linear_model.LinearRegression()\n",
    "\n",
    "# Fit the model\n",
    "lm.fit(X, y)\n",
    "\n",
    "# Score model\n",
    "print \"R-squared: \" + str(lm.score(X, y))"
   ]
  },
  {
   "cell_type": "markdown",
   "metadata": {
    "collapsed": false
   },
   "source": [
    "### Now let's also get dummy variables for the `weathersit` feature"
   ]
  },
  {
   "cell_type": "code",
   "execution_count": null,
   "metadata": {
    "collapsed": false
   },
   "outputs": [],
   "source": [
    "# this check allows this code to be run multiple times\n",
    "if 'weathersit' in bike_data.columns:\n",
    "    # get dummy variables for weathersit\n",
    "    X = X.join(pd.get_dummies(X['weathersit'], prefix='weathersit'))\n",
    "    # remove weathersit\n",
    "    X.drop(['weathersit'], axis=1, inplace=True)"
   ]
  },
  {
   "cell_type": "code",
   "execution_count": null,
   "metadata": {
    "collapsed": false
   },
   "outputs": [],
   "source": [
    "# Create linear regression object\n",
    "lm = linear_model.LinearRegression()\n",
    "\n",
    "# Fit the model\n",
    "lm.fit(X, y)\n",
    "\n",
    "# Score model\n",
    "print \"R-squared: \" + str(lm.score(X, y))"
   ]
  },
  {
   "cell_type": "markdown",
   "metadata": {},
   "source": [
    "### Now let's also get dummy variables for the `hr` feature"
   ]
  },
  {
   "cell_type": "code",
   "execution_count": null,
   "metadata": {
    "collapsed": false
   },
   "outputs": [],
   "source": [
    "# this check allows this code to be run multiple times\n",
    "if 'hr' in bike_data.columns:\n",
    "    # get dummy variables for hr\n",
    "    X = X.join(pd.get_dummies(X['hr'], prefix='hr'))\n",
    "    # remove hr\n",
    "    X.drop(['hr'], axis=1, inplace=True)"
   ]
  },
  {
   "cell_type": "code",
   "execution_count": null,
   "metadata": {
    "collapsed": false
   },
   "outputs": [],
   "source": [
    "# Create linear regression object\n",
    "lm = linear_model.LinearRegression()\n",
    "\n",
    "# Fit the model\n",
    "lm.fit(X, y)\n",
    "\n",
    "# Score model\n",
    "print \"R-squared: \" + str(lm.score(X, y))"
   ]
  },
  {
   "cell_type": "markdown",
   "metadata": {
    "collapsed": true
   },
   "source": [
    "### As an exercise, create dummy variables for the `season` feature and check the model score"
   ]
  },
  {
   "cell_type": "code",
   "execution_count": null,
   "metadata": {
    "collapsed": false
   },
   "outputs": [],
   "source": []
  }
 ],
 "metadata": {
  "kernelspec": {
   "display_name": "Python 2",
   "language": "python",
   "name": "python2"
  },
  "language_info": {
   "codemirror_mode": {
    "name": "ipython",
    "version": 2
   },
   "file_extension": ".py",
   "mimetype": "text/x-python",
   "name": "python",
   "nbconvert_exporter": "python",
   "pygments_lexer": "ipython2",
   "version": "2.7.11"
  }
 },
 "nbformat": 4,
 "nbformat_minor": 0
}
