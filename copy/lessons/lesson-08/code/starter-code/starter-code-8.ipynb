{
 "cells": [
  {
   "cell_type": "markdown",
   "metadata": {},
   "source": [
    "# Class 8 - Solution Code"
   ]
  },
  {
   "cell_type": "code",
   "execution_count": null,
   "metadata": {
    "collapsed": true
   },
   "outputs": [],
   "source": [
    "import numpy as np\n",
    "import pandas as pd\n",
    "import seaborn as sns\n",
    "import matplotlib.pyplot as plt\n",
    "from sklearn import datasets, neighbors, metrics, cross_validation, grid_search\n",
    "\n",
    "%matplotlib inline"
   ]
  },
  {
   "cell_type": "markdown",
   "metadata": {},
   "source": [
    "# Part 1: Intro to Classification\n",
    "We'll be using the Iris dataset. Read more about the Iris dataset [here](https://en.wikipedia.org/wiki/Iris_flower_data_set)"
   ]
  },
  {
   "cell_type": "code",
   "execution_count": null,
   "metadata": {
    "collapsed": false
   },
   "outputs": [],
   "source": [
    "# load dataset and convert to DF\n",
    "iris = datasets.load_iris()\n",
    "irisdf = pd.DataFrame(iris.data, columns=iris.feature_names)\n",
    "irisdf['target'] = iris.target\n",
    "\n",
    "# view data\n",
    "irisdf.head()"
   ]
  },
  {
   "cell_type": "code",
   "execution_count": null,
   "metadata": {
    "collapsed": false
   },
   "outputs": [],
   "source": [
    "# apply a color map across the target (ground truth) species and plot\n",
    "cmap = {'0': 'r', '1': 'g', '2': 'b' }\n",
    "irisdf['ctarget'] = irisdf.target.apply(lambda x: cmap[str(x)])\n",
    "irisdf.plot('petal length (cm)', 'petal width (cm)', kind='scatter', c=irisdf.ctarget)"
   ]
  },
  {
   "cell_type": "code",
   "execution_count": null,
   "metadata": {
    "collapsed": false
   },
   "outputs": [],
   "source": [
    "# build a simple classifier\n",
    "def my_classifier(row):\n",
    "    if row['petal length (cm)'] < 2:\n",
    "        return 0\n",
    "    else:\n",
    "        return 1\n",
    "\n",
    "# use simple classifier to make predictions\n",
    "predictions = irisdf.apply(my_classifier, axis=1)\n",
    "irisdf['predictions'] = predictions\n",
    "\n",
    "# check accuracy of simple classifier\n",
    "accuracy = float(sum(irisdf.target == irisdf.predictions))/len(irisdf)\n",
    "print \"Accuracy: \" + str(accuracy)\n",
    "\n",
    "# apply a color map across the predicted species and plot\n",
    "cmap = {'0': 'r', '1': 'g', '2': 'b' }\n",
    "irisdf['cpredictions'] = irisdf.predictions.apply(lambda x: cmap[str(x)])\n",
    "irisdf.plot('petal length (cm)', 'petal width (cm)', kind='scatter', c=irisdf.cpredictions)"
   ]
  },
  {
   "cell_type": "markdown",
   "metadata": {},
   "source": [
    "### Improving the simple classifier\n",
    "\n",
    "This solution is as simple it really needs to be in order to get a very good prediction score. But: Why, or when, does this fail? What attributes make this a great data set for learning classification algorithms? What makes it not as great?"
   ]
  },
  {
   "cell_type": "code",
   "execution_count": null,
   "metadata": {
    "collapsed": false
   },
   "outputs": [],
   "source": [
    "# improved simple classifier\n",
    "def my_classifier(row):\n",
    "    if row['petal length (cm)'] < 2:\n",
    "        return 0\n",
    "    elif row['petal length (cm)'] < 5:\n",
    "        return 1\n",
    "    else:\n",
    "        return 2\n",
    "\n",
    "# use simple classifier to make predictions\n",
    "predictions = irisdf.apply(my_classifier, axis=1)\n",
    "irisdf['predictions'] = predictions\n",
    "\n",
    "# calculate accuracy of improved classifier\n",
    "accuracy = float(sum(irisdf.target == irisdf.predictions))/len(irisdf)\n",
    "print \"Accuracy: \" + str(accuracy)\n",
    "\n",
    "# apply a color map across the improved predicted species and plot\n",
    "cmap = {'0': 'r', '1': 'g', '2': 'b' }\n",
    "irisdf['cpredictions'] = irisdf.predictions.apply(lambda x: cmap[str(x)])\n",
    "irisdf.plot('petal length (cm)', 'petal width (cm)', kind='scatter', c=irisdf.cpredictions)"
   ]
  },
  {
   "cell_type": "markdown",
   "metadata": {},
   "source": [
    "# Part 2: KNN Classifier\n",
    "\n",
    "### Using distance: KNN implementation\n",
    "\n",
    "API Docs for [sklearn.neighbors.KNeighborsClassifier](http://scikit-learn.org/stable/modules/generated/sklearn.neighbors.KNeighborsClassifier)"
   ]
  },
  {
   "cell_type": "code",
   "execution_count": null,
   "metadata": {
    "collapsed": false
   },
   "outputs": [],
   "source": [
    "# load dataset and convert to DF\n",
    "iris = datasets.load_iris()\n",
    "irisdf = pd.DataFrame(iris.data, columns=iris.feature_names)\n",
    "irisdf['target'] = iris.target\n",
    "\n",
    "irisdf.head()"
   ]
  },
  {
   "cell_type": "code",
   "execution_count": null,
   "metadata": {
    "collapsed": false
   },
   "outputs": [],
   "source": [
    "# select columns for X and y\n",
    "X = irisdf[irisdf.columns.drop('target')]\n",
    "y = iris.target\n",
    "\n",
    "# train knn classifier using default params\n",
    "knn = neighbors.KNeighborsClassifier(n_neighbors=5, weights='uniform')\n",
    "knn.fit(X, y)\n",
    "\n",
    "# use knn classifier to make predictions\n",
    "predictions = knn.predict(X)\n",
    "irisdf['predictions'] = predictions\n",
    "\n",
    "# calculate accuracy of improved classifier\n",
    "accuracy = knn.score(X, y)\n",
    "print \"Accuracy: \" + str(accuracy)\n",
    "\n",
    "# apply a color map across the improved predicted species and plot\n",
    "cmap = {'0': 'r', '1': 'g', '2': 'b' }\n",
    "irisdf['cpredictions'] = irisdf.predictions.apply(lambda x: cmap[str(x)])\n",
    "irisdf.plot('petal length (cm)', 'petal width (cm)', kind='scatter', c=irisdf.cpredictions)"
   ]
  },
  {
   "cell_type": "markdown",
   "metadata": {},
   "source": [
    "### Check\n",
    "\n",
    "1. Did the accuracy of the model improve from our simple model?\n",
    "\n",
    "**Answer**: \n",
    "\n",
    "2. Which data science best practice are we breaking here?\n",
    "\n",
    "**Answer**: \n",
    "\n",
    "3. Looking at the API docs, what is a parameter we can use to tune the performance of the knn model?\n",
    "\n",
    "**Answer**: "
   ]
  },
  {
   "cell_type": "markdown",
   "metadata": {},
   "source": [
    "# Part 3: Hyperparameter Tuning\n",
    "\n",
    "API Docs for [sklearn.grid_search.GridSearchCV](http://scikit-learn.org/stable/modules/generated/sklearn.grid_search.GridSearchCV.html)"
   ]
  },
  {
   "cell_type": "markdown",
   "metadata": {},
   "source": [
    "### Perform grid search for `n_neighbors`"
   ]
  },
  {
   "cell_type": "code",
   "execution_count": null,
   "metadata": {
    "collapsed": false
   },
   "outputs": [],
   "source": [
    "# set list of values to grid search over\n",
    "k = range(2, 100)\n",
    "params = {'n_neighbors': k }\n",
    "\n",
    "#set inputs\n",
    "X = iris.data\n",
    "y = iris.target\n",
    "\n",
    "# perform grid search using list of values\n",
    "kf = cross_validation.KFold(len(irisdf), n_folds = 5)\n",
    "gs = grid_search.GridSearchCV(\n",
    "    estimator=neighbors.KNeighborsClassifier(),\n",
    "    param_grid=params,\n",
    "    cv=kf)\n",
    "gs.fit(X, y)\n",
    "\n",
    "# get best value to use\n",
    "print gs.best_estimator_"
   ]
  },
  {
   "cell_type": "code",
   "execution_count": null,
   "metadata": {
    "collapsed": false
   },
   "outputs": [],
   "source": [
    "# plot search values vs. grid scores\n",
    "plt.plot(k, [s[1] for s in gs.grid_scores_])"
   ]
  },
  {
   "cell_type": "markdown",
   "metadata": {
    "collapsed": true
   },
   "source": [
    "### Check\n",
    "\n",
    "1. What is the best value to use for `n_neighbors`?\n",
    "\n",
    "**Answer**: "
   ]
  },
  {
   "cell_type": "code",
   "execution_count": null,
   "metadata": {
    "collapsed": true
   },
   "outputs": [],
   "source": []
  }
 ],
 "metadata": {
  "kernelspec": {
   "display_name": "Python 2",
   "language": "python",
   "name": "python2"
  },
  "language_info": {
   "codemirror_mode": {
    "name": "ipython",
    "version": 2
   },
   "file_extension": ".py",
   "mimetype": "text/x-python",
   "name": "python",
   "nbconvert_exporter": "python",
   "pygments_lexer": "ipython2",
   "version": "2.7.11"
  }
 },
 "nbformat": 4,
 "nbformat_minor": 0
}
