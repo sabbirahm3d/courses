{
 "cells": [
  {
   "cell_type": "markdown",
   "metadata": {},
   "source": [
    "# Class 10 - Starter Code"
   ]
  },
  {
   "cell_type": "code",
   "execution_count": null,
   "metadata": {
    "collapsed": true
   },
   "outputs": [],
   "source": [
    "import numpy as np\n",
    "import pandas as pd\n",
    "from sklearn import cross_validation\n",
    "from sklearn import neighbors\n",
    "from sklearn import grid_search\n",
    "from sklearn import metrics\n",
    "from sklearn import linear_model\n",
    "from sklearn import dummy\n",
    "\n",
    "import seaborn as sns\n",
    "import matplotlib.pyplot as plt\n",
    "sns.set(style=\"whitegrid\", font_scale=1)\n",
    "%matplotlib inline"
   ]
  },
  {
   "cell_type": "markdown",
   "metadata": {},
   "source": [
    "### Load Dataset and Pre-Process"
   ]
  },
  {
   "cell_type": "code",
   "execution_count": null,
   "metadata": {
    "collapsed": false
   },
   "outputs": [],
   "source": [
    "# load data\n",
    "df = pd.read_csv('../../assets/dataset/flight_delays.csv')\n",
    "\n",
    "# check head\n",
    "df.head()"
   ]
  },
  {
   "cell_type": "code",
   "execution_count": null,
   "metadata": {
    "collapsed": true
   },
   "outputs": [],
   "source": [
    "# drop all blank column\n",
    "df = df.drop('Unnamed: 15', axis=1)"
   ]
  },
  {
   "cell_type": "code",
   "execution_count": null,
   "metadata": {
    "collapsed": false
   },
   "outputs": [],
   "source": [
    "# drop missing values if there are any\n",
    "if df.isnull().sum().sum():\n",
    "    print \"There are missing values\"\n",
    "    df = df.dropna()\n",
    "    print \"Missing values dropped\""
   ]
  },
  {
   "cell_type": "code",
   "execution_count": null,
   "metadata": {
    "collapsed": false
   },
   "outputs": [],
   "source": [
    "# check data types\n",
    "print df.dtypes"
   ]
  },
  {
   "cell_type": "markdown",
   "metadata": {},
   "source": [
    "# Part 1: Visualizing models over variables"
   ]
  },
  {
   "cell_type": "markdown",
   "metadata": {},
   "source": [
    "### 1.1 Visualize over Week and Time of Day\n",
    "\n",
    "API Docs for [sklearn.linear_model.LogisticRegression](http://scikit-learn.org/stable/modules/generated/sklearn.linear_model.LogisticRegression.html)"
   ]
  },
  {
   "cell_type": "code",
   "execution_count": null,
   "metadata": {
    "collapsed": false
   },
   "outputs": [],
   "source": [
    "# create dummy variables for `DAY_OF_WEEK` feature\n",
    "# this check allows this code to be run multiple times\n",
    "if 'DAY_OF_WEEK' in df.columns:\n",
    "    # get dummy variables for DAY_OF_WEEK\n",
    "    df = df.join(pd.get_dummies(df['DAY_OF_WEEK'], prefix='DAY_OF_WEEK'))\n",
    "    # remove DAY_OF_WEEK column\n",
    "    df.drop(['DAY_OF_WEEK'], axis=1, inplace=True)\n",
    "    \n",
    "# list of features to use to build model\n",
    "features = [i for i in df.columns if 'DAY_OF_WEEK_' in i]\n",
    "features += ['CRS_DEP_TIME']\n",
    "print features"
   ]
  },
  {
   "cell_type": "code",
   "execution_count": null,
   "metadata": {
    "collapsed": false
   },
   "outputs": [],
   "source": [
    "# set X and y and build model\n",
    "X = df[features]\n",
    "y = df['DEP_DEL15']\n",
    "\n",
    "# train model\n",
    "lm = linear_model.LogisticRegression()\n",
    "lm.fit(X, y)\n",
    "\n",
    "# predict\n",
    "df['probability'] = lm.predict_proba(X).T[1]"
   ]
  },
  {
   "cell_type": "code",
   "execution_count": null,
   "metadata": {
    "collapsed": false
   },
   "outputs": [],
   "source": [
    "# plot\n",
    "ax = plt.subplot(111)\n",
    "labels = ['Sun', 'Mon', 'Tue', 'Wed', 'Thu', 'Fri', 'Sat']\n",
    "from matplotlib import cm\n",
    "colors = [ cm.jet(x) for x in np.linspace(0, 1, len(labels)) ]\n",
    "print colors\n",
    "\n",
    "for i, v in enumerate(labels):\n",
    "    df[df[features[i]] == 1].plot(x='CRS_DEP_TIME', y='probability', kind='scatter', label=v, color=colors[i], ax=ax)\n",
    "\n",
    "ax.set(title='Probability of Delay\\n Based on Day of Week and Time of Day')\n",
    "plt.legend(loc='upper left')"
   ]
  },
  {
   "cell_type": "markdown",
   "metadata": {},
   "source": [
    "### 1.2 Visualizing over Airline Carrier"
   ]
  },
  {
   "cell_type": "code",
   "execution_count": null,
   "metadata": {
    "collapsed": false
   },
   "outputs": [],
   "source": [
    "# create dummy variables for `CARRIER` feature\n",
    "### FILL IN ###\n",
    "    \n",
    "# list of features to use to build model\n",
    "### FILL IN ###"
   ]
  },
  {
   "cell_type": "code",
   "execution_count": null,
   "metadata": {
    "collapsed": true
   },
   "outputs": [],
   "source": [
    "# set X and y and build model\n",
    "### FILL IN ###\n",
    "\n",
    "# train model\n",
    "### FILL IN ###\n",
    "\n",
    "# predict\n",
    "### FILL IN ###"
   ]
  },
  {
   "cell_type": "code",
   "execution_count": null,
   "metadata": {
    "collapsed": false
   },
   "outputs": [],
   "source": [
    "# plot\n",
    "ax = plt.subplot(111)\n",
    "labels = [i for i in df.columns if 'CARRIER_' in i]\n",
    "from matplotlib import cm\n",
    "colors = [cm.jet(x) for x in np.linspace(0, 1, len(labels))]\n",
    "\n",
    "for i, v in enumerate(labels):\n",
    "    df[df[features[i]] == 1].plot(x='CRS_DEP_TIME', y='probability', kind='scatter', label=v, color=colors[i], ax=ax)\n",
    "\n",
    "ax.set(title='Probability of Delay\\n Based on Day of Week and Time of Day')\n",
    "\n",
    "# Shrink current axis by 20%\n",
    "box = ax.get_position()\n",
    "ax.set_position([box.x0, box.y0, box.width * 0.8, box.height])\n",
    "\n",
    "# Put a legend to the right of the current axis\n",
    "ax.legend(loc='center left', bbox_to_anchor=(1, 0.5))\n",
    "\n",
    "plt.show()"
   ]
  },
  {
   "cell_type": "markdown",
   "metadata": {},
   "source": [
    "# Part 2: Visualizing Performance Against Baseline"
   ]
  },
  {
   "cell_type": "markdown",
   "metadata": {},
   "source": [
    "### 2.1 Visualizing ROC Curves\n",
    "\n",
    "API Docs for [sklearn.metrics.roc_curve](http://scikit-learn.org/stable/modules/generated/sklearn.metrics.roc_curve.html)"
   ]
  },
  {
   "cell_type": "code",
   "execution_count": null,
   "metadata": {
    "collapsed": false
   },
   "outputs": [],
   "source": [
    "# create dummy variables for `DAY_OF_WEEK` feature\n",
    "# this check allows this code to be run multiple times\n",
    "if 'DAY_OF_WEEK' in df.columns:\n",
    "    # get dummy variables for DAY_OF_WEEK\n",
    "    df = df.join(pd.get_dummies(df['DAY_OF_WEEK'], prefix='DAY_OF_WEEK'))\n",
    "    # remove DAY_OF_WEEK column\n",
    "    df.drop(['DAY_OF_WEEK'], axis=1, inplace=True)\n",
    "    \n",
    "# list of features to use to build model\n",
    "features = [i for i in df.columns if 'DAY_OF_WEEK_' in i]\n",
    "features += ['CRS_DEP_TIME']\n",
    "print features"
   ]
  },
  {
   "cell_type": "code",
   "execution_count": null,
   "metadata": {
    "collapsed": false
   },
   "outputs": [],
   "source": [
    "# set X and y and build model\n",
    "X = df[features]\n",
    "y = df['DEP_DEL15']\n",
    "\n",
    "# train and predict using dummy model\n",
    "dm = dummy.DummyClassifier()\n",
    "dm.fit(X, y)\n",
    "df['probability_dm'] = dm.predict_proba(X).T[1]\n",
    "\n",
    "# train and predict using logistic model\n",
    "lm = linear_model.LogisticRegression()\n",
    "lm.fit(X, y)\n",
    "df['probability_lm'] = lm.predict_proba(X).T[1]"
   ]
  },
  {
   "cell_type": "code",
   "execution_count": null,
   "metadata": {
    "collapsed": false
   },
   "outputs": [],
   "source": [
    "# plot ROC\n",
    "ax = plt.subplot(111)\n",
    "vals = metrics.roc_curve(df['DEP_DEL15'], df['probability_dm'])\n",
    "ax.plot(vals[0], vals[1], label='Dummy Model')\n",
    "vals = metrics.roc_curve(df['DEP_DEL15'], df['probability_lm'])\n",
    "ax.plot(vals[0], vals[1], label='Logistic Regression')\n",
    "\n",
    "ax.set(title='Area Under the Curve for Prediction (delayed=1)', ylabel='True Positive Rate', xlabel='False Positive Rate', xlim=(0, 1), ylim=(0, 1))\n",
    "plt.legend(loc='lower right')"
   ]
  },
  {
   "cell_type": "markdown",
   "metadata": {},
   "source": [
    "### 2.2 Visualizing Precision-Recall Curves\n",
    "\n",
    "API Docs for [sklearn.metrics.precision_recall_curve](http://scikit-learn.org/stable/modules/generated/sklearn.metrics.precision_recall_curve.html)"
   ]
  },
  {
   "cell_type": "code",
   "execution_count": null,
   "metadata": {
    "collapsed": true
   },
   "outputs": [],
   "source": [
    "# plot precision-recall curve\n",
    "ax = plt.subplot(111)\n",
    "vals = metrics.### FILL IN ###\n",
    "ax.plot(vals[1], vals[0], label='Dummy Model')\n",
    "vals = metrics.### FILL IN ###\n",
    "ax.plot(vals[1], vals[0], label='Logistic Regression')\n",
    "\n",
    "ax.set(title='Precision-Recall Curve for Prediction (delayed=1)', ylabel='Precision', xlabel='Recall', xlim=(0, 1), ylim=(0, 1))\n",
    "plt.legend(loc='upper right')"
   ]
  }
 ],
 "metadata": {
  "kernelspec": {
   "display_name": "Python 2",
   "language": "python",
   "name": "python2"
  },
  "language_info": {
   "codemirror_mode": {
    "name": "ipython",
    "version": 2
   },
   "file_extension": ".py",
   "mimetype": "text/x-python",
   "name": "python",
   "nbconvert_exporter": "python",
   "pygments_lexer": "ipython2",
   "version": "2.7.11"
  }
 },
 "nbformat": 4,
 "nbformat_minor": 0
}
