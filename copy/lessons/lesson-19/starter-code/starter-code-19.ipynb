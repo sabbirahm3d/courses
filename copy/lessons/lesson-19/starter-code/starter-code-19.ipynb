{
 "cells": [
  {
   "cell_type": "markdown",
   "metadata": {},
   "source": [
    "# Class 19 - Starter Code\n",
    "\n",
    "TensorFlow"
   ]
  },
  {
   "cell_type": "markdown",
   "metadata": {},
   "source": [
    "### Installing TensorFlow\n",
    "\n",
    "If you haven't installed TensorFlow (TF) yet, install it using the code below.\n",
    "\n",
    "```bash\n",
    "# Ubuntu/Linux 64-bit, CPU only, Python 2.7\n",
    "export TF_BINARY_URL=https://storage.googleapis.com/tensorflow/linux/cpu/tensorflow-0.9.0-cp27-none-linux_x86_64.whl\n",
    "\n",
    "# Mac OS X, CPU only, Python 2.7:\n",
    "export TF_BINARY_URL=https://storage.googleapis.com/tensorflow/mac/tensorflow-0.9.0-py2-none-any.whl\n",
    "\n",
    "pip install --ignore-installed --upgrade $TF_BINARY_URL\n",
    "```\n",
    "\n",
    "See more details on the TF installation [page](https://www.tensorflow.org/versions/r0.9/get_started/os_setup.html#pip-installation)"
   ]
  },
  {
   "cell_type": "markdown",
   "metadata": {},
   "source": [
    "### TensorFlow Playground\n",
    "\n",
    "The [playground](http://playground.tensorflow.org) provides an intuition for what the hidden layers in a neural network does.  \n",
    "  \n",
    "These are notional network architectures.  \n",
    "See more details at: https://cloud.google.com/blog/big-data/2016/07/understanding-neural-networks-with-tensorflow-playground"
   ]
  },
  {
   "cell_type": "markdown",
   "metadata": {},
   "source": [
    "#### Donut non-linear classification problem\n",
    "\n",
    "1. Logistic Regression without feature engineering: [Link](http://playground.tensorflow.org/#activation=relu&regularization=L2&batchSize=20&dataset=circle&regDataset=reg-plane&learningRate=0.1&regularizationRate=0.001&noise=0&networkShape=&seed=0.27923&showTestData=false&discretize=false&percTrainData=80&x=true&y=true&xTimesY=false&xSquared=false&ySquared=false&cosX=false&sinX=false&cosY=false&sinY=false&collectStats=false&problem=classification&initZero=false)\n",
    "2. Logistic Regression with feature engineering: [Link](http://playground.tensorflow.org/#activation=relu&regularization=L2&batchSize=20&dataset=circle&regDataset=reg-plane&learningRate=0.1&regularizationRate=0.001&noise=0&networkShape=&seed=0.27923&showTestData=false&discretize=false&percTrainData=80&x=true&y=true&xTimesY=false&xSquared=true&ySquared=true&cosX=false&sinX=false&cosY=false&sinY=false&collectStats=false&problem=classification&initZero=false)\n",
    "3. Neural Network with representation learning: [Link](http://playground.tensorflow.org/#activation=relu&regularization=L2&batchSize=20&dataset=circle&regDataset=reg-plane&learningRate=0.1&regularizationRate=0.001&noise=0&networkShape=3&seed=0.27923&showTestData=false&discretize=false&percTrainData=80&x=true&y=true&xTimesY=false&xSquared=false&ySquared=false&cosX=false&sinX=false&cosY=false&sinY=false&collectStats=false&problem=classification&initZero=false)\n",
    "\n",
    "![](../assets/images/tf-playground-donut.png)\n",
    "\n"
   ]
  },
  {
   "cell_type": "markdown",
   "metadata": {},
   "source": [
    "#### Spiral non-linear classification problem\n",
    "\n",
    "1. Logistic Regression without feature engineering: [Link](http://playground.tensorflow.org/#activation=relu&regularization=L2&batchSize=20&dataset=spiral&regDataset=reg-plane&learningRate=0.01&regularizationRate=0.001&noise=0&networkShape=&seed=0.99514&showTestData=false&discretize=false&percTrainData=80&x=true&y=true&xTimesY=false&xSquared=false&ySquared=false&cosX=false&sinX=false&cosY=false&sinY=false&collectStats=false&problem=classification&initZero=false)\n",
    "2. Logistic Regression with feature engineering: [Link](http://playground.tensorflow.org/#activation=relu&regularization=L2&batchSize=20&dataset=spiral&regDataset=reg-plane&learningRate=0.01&regularizationRate=0.001&noise=0&networkShape=&seed=0.99514&showTestData=false&discretize=false&percTrainData=80&x=true&y=true&xTimesY=true&xSquared=true&ySquared=true&cosX=false&sinX=true&cosY=false&sinY=true&collectStats=false&problem=classification&initZero=false)\n",
    "3. Neural Network with representation learning: [Link](http://playground.tensorflow.org/#activation=relu&regularization=L2&batchSize=20&dataset=spiral&regDataset=reg-plane&learningRate=0.03&regularizationRate=0.001&noise=0&networkShape=8,8,6&seed=0.99514&showTestData=false&discretize=false&percTrainData=80&x=true&y=true&xTimesY=false&xSquared=false&ySquared=false&cosX=false&sinX=false&cosY=false&sinY=false&collectStats=false&problem=classification&initZero=false)\n",
    "\n",
    "\n",
    "![](../assets/images/tf-playground-spiral.png)\n",
    "\n"
   ]
  },
  {
   "cell_type": "markdown",
   "metadata": {},
   "source": [
    "# Part 1: Hello World"
   ]
  },
  {
   "cell_type": "code",
   "execution_count": null,
   "metadata": {
    "collapsed": true
   },
   "outputs": [],
   "source": [
    "import tensorflow as tf"
   ]
  },
  {
   "cell_type": "code",
   "execution_count": null,
   "metadata": {
    "collapsed": false
   },
   "outputs": [],
   "source": [
    "sess = tf.Session()\n",
    "hello = tf.constant('Hello, TensorFlow!')\n",
    "\n",
    "print(sess.run(hello))"
   ]
  },
  {
   "cell_type": "markdown",
   "metadata": {},
   "source": [
    "# Part 2: TF Learn (aka Scikit Flow)\n",
    "\n",
    "TF Learn is a simplified interface to TF that follows the Scikit Learn interface paradigm\n",
    "\n",
    "See more details at: https://github.com/tensorflow/tensorflow/tree/master/tensorflow/contrib/learn/python/learn"
   ]
  },
  {
   "cell_type": "markdown",
   "metadata": {},
   "source": [
    "## 2.1 [Demo] Deep Neural Network (DNN) Classifier Example\n",
    "\n",
    "We will build a 3 layer network with 10, 20 and 10 hidden units respectively for the iris dataset"
   ]
  },
  {
   "cell_type": "code",
   "execution_count": null,
   "metadata": {
    "collapsed": true
   },
   "outputs": [],
   "source": [
    "from sklearn import datasets, cross_validation, metrics\n",
    "\n",
    "# Load data\n",
    "iris = datasets.load_iris()"
   ]
  },
  {
   "cell_type": "code",
   "execution_count": null,
   "metadata": {
    "collapsed": false
   },
   "outputs": [],
   "source": [
    "from tensorflow.contrib import learn\n",
    "\n",
    "# Set X and y\n",
    "X = iris.data\n",
    "y = iris.target\n",
    "\n",
    "# Do cross validation\n",
    "X_train, X_test, y_train, y_test = cross_validation.train_test_split(X, y, test_size=0.2, random_state=42)\n",
    "\n",
    "# Instantiate model\n",
    "clf = learn.DNNClassifier(hidden_units=[10, 20, 10], n_classes=3)\n",
    "\n",
    "# Train model\n",
    "clf.fit(X_train, y_train, steps=200, batch_size=32)\n",
    "\n",
    "# Score model\n",
    "score = metrics.accuracy_score(y_test, clf.predict(X_test))\n",
    "\n",
    "\n",
    "print \"Accuracy: %0.3f\" % score"
   ]
  },
  {
   "cell_type": "markdown",
   "metadata": {},
   "source": [
    "### 2.2 [Exercise] Deep Neural Network (DNN) Classifier on Titanic Dataset\n",
    "\n",
    "Build a 3 layer network with 15, 30 and 15 hidden units respectively for binary classification on the Titanic dataset.\n",
    "Train the model for 100 iterations and batch size of 64 "
   ]
  },
  {
   "cell_type": "code",
   "execution_count": null,
   "metadata": {
    "collapsed": false
   },
   "outputs": [],
   "source": [
    "import pandas as pd\n",
    "\n",
    "# Load data\n",
    "data = pd.read_csv('../assets/dataset/titanic_train.csv')"
   ]
  },
  {
   "cell_type": "code",
   "execution_count": null,
   "metadata": {
    "collapsed": false
   },
   "outputs": [],
   "source": [
    "from sklearn import datasets, cross_validation, metrics\n",
    "from tensorflow.contrib import learn\n",
    "\n",
    "# Set X and y\n",
    "X = data[['Age', 'SibSp', 'Fare']].fillna(0).as_matrix()\n",
    "y = data['Survived'].as_matrix()\n",
    "\n",
    "# Do cross validation\n",
    "X_train, X_test, y_train, y_test = cross_validation.train_test_split(X, y, test_size=0.2, random_state=42)\n",
    "\n",
    "# Instantiate model\n",
    "clf = ### FILL IN ###\n",
    "\n",
    "# Train model\n",
    "clf.### FILL IN ###\n",
    "\n",
    "# Score model\n",
    "score = metrics.accuracy_score(y_test, clf.predict(X_test))\n",
    "\n",
    "print \"Accuracy: %0.3f\" % score"
   ]
  },
  {
   "cell_type": "markdown",
   "metadata": {},
   "source": [
    "# Part 3: MNIST Example\n",
    "\n",
    "See more details at: https://www.tensorflow.org/versions/r0.9/tutorials/mnist/beginners/index.html"
   ]
  },
  {
   "cell_type": "code",
   "execution_count": null,
   "metadata": {
    "collapsed": false
   },
   "outputs": [],
   "source": [
    "from tensorflow.examples.tutorials.mnist import input_data\n",
    "\n",
    "mnist = input_data.read_data_sets(\"MNIST_data/\", one_hot=True)"
   ]
  },
  {
   "cell_type": "code",
   "execution_count": null,
   "metadata": {
    "collapsed": true
   },
   "outputs": [],
   "source": [
    "# Create a session\n",
    "sess = tf.Session()"
   ]
  },
  {
   "cell_type": "code",
   "execution_count": null,
   "metadata": {
    "collapsed": true
   },
   "outputs": [],
   "source": [
    "# Define placeholders and variables\n",
    "\n",
    "# For input\n",
    "x = tf.placeholder(tf.float32, [None, 784])\n",
    "\n",
    "# For hyperparameters\n",
    "W = tf.Variable(tf.zeros([784, 10]))\n",
    "b = tf.Variable(tf.zeros([10]))\n",
    "\n",
    "# For output\n",
    "y = tf.nn.softmax(tf.matmul(x, W) + b)\n",
    "y_ = tf.placeholder(tf.float32, [None, 10])"
   ]
  },
  {
   "cell_type": "code",
   "execution_count": null,
   "metadata": {
    "collapsed": true
   },
   "outputs": [],
   "source": [
    "# Set cross entropy as error function\n",
    "cross_entropy = tf.reduce_mean(-tf.reduce_sum(y_ * tf.log(y), reduction_indices=[1]))\n",
    "\n",
    "# Set gradient descent as optimization algorithm\n",
    "train_step = tf.train.GradientDescentOptimizer(0.5).minimize(cross_entropy)"
   ]
  },
  {
   "cell_type": "code",
   "execution_count": null,
   "metadata": {
    "collapsed": true
   },
   "outputs": [],
   "source": [
    "# Initialize variables\n",
    "init = tf.initialize_all_variables()\n",
    "sess.run(init)"
   ]
  },
  {
   "cell_type": "code",
   "execution_count": null,
   "metadata": {
    "collapsed": true
   },
   "outputs": [],
   "source": [
    "# Train model for 1000 iterations on train set\n",
    "for i in range(1000):\n",
    "    batch_xs, batch_ys = mnist.train.next_batch(100)\n",
    "    sess.run(train_step, feed_dict={x: batch_xs, y_: batch_ys})"
   ]
  },
  {
   "cell_type": "code",
   "execution_count": null,
   "metadata": {
    "collapsed": false
   },
   "outputs": [],
   "source": [
    "# Define accuracy function and check accuracy on test set\n",
    "accuracy = tf.reduce_mean(tf.cast(tf.equal(tf.argmax(y,1), tf.argmax(y_,1)), tf.float32))\n",
    "print \"Accuracy: %0.3f\" % sess.run(accuracy, feed_dict={x: mnist.test.images, y_: mnist.test.labels})"
   ]
  },
  {
   "cell_type": "markdown",
   "metadata": {
    "collapsed": true
   },
   "source": [
    "# Part 4: Bonus TensorFlow Examples\n",
    "\n",
    "See more examples at: https://github.com/aymericdamien/TensorFlow-Examples"
   ]
  },
  {
   "cell_type": "code",
   "execution_count": null,
   "metadata": {
    "collapsed": true
   },
   "outputs": [],
   "source": []
  }
 ],
 "metadata": {
  "kernelspec": {
   "display_name": "Python 2",
   "language": "python",
   "name": "python2"
  },
  "language_info": {
   "codemirror_mode": {
    "name": "ipython",
    "version": 2
   },
   "file_extension": ".py",
   "mimetype": "text/x-python",
   "name": "python",
   "nbconvert_exporter": "python",
   "pygments_lexer": "ipython2",
   "version": "2.7.11"
  }
 },
 "nbformat": 4,
 "nbformat_minor": 0
}
