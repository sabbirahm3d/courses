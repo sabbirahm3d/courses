{
 "cells": [
  {
   "cell_type": "markdown",
   "metadata": {},
   "source": [
    "# Pre-Work: Dummy Variables"
   ]
  },
  {
   "cell_type": "markdown",
   "metadata": {},
   "source": [
    "#### What are dummy variables?\n",
    "Dummy variables are a set of variables that takes the value 0 or 1 to indicate the presence or absence of each category in a catergorical variable.\n",
    "\n",
    "#### Why do we need dummy variables?\n",
    "Most machine learning techniques will only accept numberical values as inputs as will not accept string objects.\n",
    "\n",
    "For example, most machine learning techniques will not accept the variable `state = ['DC', 'VA', 'MD']` but will understand the corresponding dummy variables `state_DC = [0, 1]`, `state_VA = [0, 1]`, and `state_MD = [0, 1]`, where `0` indicates absence of that category and `1` indicates presence.\n",
    "\n",
    "| state | state_DC | state_VA | state_MD |\n",
    "|-------|----------|----------|----------|\n",
    "| DC    | 1        | 0        | 0        |\n",
    "| VA    | 0        | 1        | 0        |\n",
    "| MD    | 0        | 0        | 1        |\n",
    "\n",
    "#### Why are numerical values sometimes converted to dummy variables?\n",
    "If a variable takes on numerical values, but the values themselves do not imply an order, then they can be treated as categorical values and converted to dummy variables.\n",
    "\n",
    "For example, consider a variable which holds internet socket port numbers used in network communications and can take on values form the list `ports = [20, 22, 25, 80]`. Port 20 is typically used for FTP traffic and port 80 is typically used for web traffic. There is no implied meaning that port 80 is 4 times as much as port 20. Here it is better to treat ports as a categorical variable and used dummy variables. Read more about port numbers [here](https://en.wikipedia.org/wiki/List_of_TCP_and_UDP_port_numbers).\n",
    "\n",
    "#### Is there an easy way to create dummy variables?\n",
    "Yes, pandas `pd.get_dummies()` makes it really easy to make dummy variables. Read the API docs for the function [here](http://pandas.pydata.org/pandas-docs/stable/generated/pandas.get_dummies.html)."
   ]
  },
  {
   "cell_type": "code",
   "execution_count": 1,
   "metadata": {
    "collapsed": true
   },
   "outputs": [],
   "source": [
    "import numpy as np\n",
    "import pandas as pd\n",
    "\n",
    "from sklearn import linear_model"
   ]
  },
  {
   "cell_type": "markdown",
   "metadata": {},
   "source": [
    "### Let's use the bikeshare data to demonstrate dummy variables"
   ]
  },
  {
   "cell_type": "code",
   "execution_count": 2,
   "metadata": {
    "collapsed": false
   },
   "outputs": [
    {
     "data": {
      "text/html": [
       "<div>\n",
       "<table border=\"1\" class=\"dataframe\">\n",
       "  <thead>\n",
       "    <tr style=\"text-align: right;\">\n",
       "      <th></th>\n",
       "      <th>instant</th>\n",
       "      <th>dteday</th>\n",
       "      <th>season</th>\n",
       "      <th>yr</th>\n",
       "      <th>mnth</th>\n",
       "      <th>hr</th>\n",
       "      <th>holiday</th>\n",
       "      <th>weekday</th>\n",
       "      <th>workingday</th>\n",
       "      <th>weathersit</th>\n",
       "      <th>temp</th>\n",
       "      <th>atemp</th>\n",
       "      <th>hum</th>\n",
       "      <th>windspeed</th>\n",
       "      <th>casual</th>\n",
       "      <th>registered</th>\n",
       "      <th>cnt</th>\n",
       "    </tr>\n",
       "  </thead>\n",
       "  <tbody>\n",
       "    <tr>\n",
       "      <th>0</th>\n",
       "      <td>1</td>\n",
       "      <td>2011-01-01</td>\n",
       "      <td>1</td>\n",
       "      <td>0</td>\n",
       "      <td>1</td>\n",
       "      <td>0</td>\n",
       "      <td>0</td>\n",
       "      <td>6</td>\n",
       "      <td>0</td>\n",
       "      <td>1</td>\n",
       "      <td>0.24</td>\n",
       "      <td>0.2879</td>\n",
       "      <td>0.81</td>\n",
       "      <td>0.0</td>\n",
       "      <td>3</td>\n",
       "      <td>13</td>\n",
       "      <td>16</td>\n",
       "    </tr>\n",
       "    <tr>\n",
       "      <th>1</th>\n",
       "      <td>2</td>\n",
       "      <td>2011-01-01</td>\n",
       "      <td>1</td>\n",
       "      <td>0</td>\n",
       "      <td>1</td>\n",
       "      <td>1</td>\n",
       "      <td>0</td>\n",
       "      <td>6</td>\n",
       "      <td>0</td>\n",
       "      <td>1</td>\n",
       "      <td>0.22</td>\n",
       "      <td>0.2727</td>\n",
       "      <td>0.80</td>\n",
       "      <td>0.0</td>\n",
       "      <td>8</td>\n",
       "      <td>32</td>\n",
       "      <td>40</td>\n",
       "    </tr>\n",
       "    <tr>\n",
       "      <th>2</th>\n",
       "      <td>3</td>\n",
       "      <td>2011-01-01</td>\n",
       "      <td>1</td>\n",
       "      <td>0</td>\n",
       "      <td>1</td>\n",
       "      <td>2</td>\n",
       "      <td>0</td>\n",
       "      <td>6</td>\n",
       "      <td>0</td>\n",
       "      <td>1</td>\n",
       "      <td>0.22</td>\n",
       "      <td>0.2727</td>\n",
       "      <td>0.80</td>\n",
       "      <td>0.0</td>\n",
       "      <td>5</td>\n",
       "      <td>27</td>\n",
       "      <td>32</td>\n",
       "    </tr>\n",
       "    <tr>\n",
       "      <th>3</th>\n",
       "      <td>4</td>\n",
       "      <td>2011-01-01</td>\n",
       "      <td>1</td>\n",
       "      <td>0</td>\n",
       "      <td>1</td>\n",
       "      <td>3</td>\n",
       "      <td>0</td>\n",
       "      <td>6</td>\n",
       "      <td>0</td>\n",
       "      <td>1</td>\n",
       "      <td>0.24</td>\n",
       "      <td>0.2879</td>\n",
       "      <td>0.75</td>\n",
       "      <td>0.0</td>\n",
       "      <td>3</td>\n",
       "      <td>10</td>\n",
       "      <td>13</td>\n",
       "    </tr>\n",
       "    <tr>\n",
       "      <th>4</th>\n",
       "      <td>5</td>\n",
       "      <td>2011-01-01</td>\n",
       "      <td>1</td>\n",
       "      <td>0</td>\n",
       "      <td>1</td>\n",
       "      <td>4</td>\n",
       "      <td>0</td>\n",
       "      <td>6</td>\n",
       "      <td>0</td>\n",
       "      <td>1</td>\n",
       "      <td>0.24</td>\n",
       "      <td>0.2879</td>\n",
       "      <td>0.75</td>\n",
       "      <td>0.0</td>\n",
       "      <td>0</td>\n",
       "      <td>1</td>\n",
       "      <td>1</td>\n",
       "    </tr>\n",
       "  </tbody>\n",
       "</table>\n",
       "</div>"
      ],
      "text/plain": [
       "   instant      dteday  season  yr  mnth  hr  holiday  weekday  workingday  \\\n",
       "0        1  2011-01-01       1   0     1   0        0        6           0   \n",
       "1        2  2011-01-01       1   0     1   1        0        6           0   \n",
       "2        3  2011-01-01       1   0     1   2        0        6           0   \n",
       "3        4  2011-01-01       1   0     1   3        0        6           0   \n",
       "4        5  2011-01-01       1   0     1   4        0        6           0   \n",
       "\n",
       "   weathersit  temp   atemp   hum  windspeed  casual  registered  cnt  \n",
       "0           1  0.24  0.2879  0.81        0.0       3          13   16  \n",
       "1           1  0.22  0.2727  0.80        0.0       8          32   40  \n",
       "2           1  0.22  0.2727  0.80        0.0       5          27   32  \n",
       "3           1  0.24  0.2879  0.75        0.0       3          10   13  \n",
       "4           1  0.24  0.2879  0.75        0.0       0           1    1  "
      ]
     },
     "execution_count": 2,
     "metadata": {},
     "output_type": "execute_result"
    }
   ],
   "source": [
    "# load bikeshare data\n",
    "wd = '../../assets/dataset/bikeshare/'\n",
    "bike_data = pd.read_csv(wd + 'bikeshare.csv')\n",
    "bike_data.head()"
   ]
  },
  {
   "cell_type": "code",
   "execution_count": 3,
   "metadata": {
    "collapsed": false,
    "scrolled": true
   },
   "outputs": [
    {
     "name": "stdout",
     "output_type": "stream",
     "text": [
      "==========================================\n",
      "Bike Sharing Dataset\n",
      "==========================================\n",
      "\n",
      "Hadi Fanaee-T\n",
      "\n",
      "Laboratory of Artificial Intelligence and Decision Support (LIAAD), University of Porto\n",
      "INESC Porto, Campus da FEUP\n",
      "Rua Dr. Roberto Frias, 378\n",
      "4200 - 465 Porto, Portugal\n",
      "\n",
      "\n",
      "=========================================\n",
      "Background \n",
      "=========================================\n",
      "\n",
      "Bike sharing systems are new generation of traditional bike rentals where whole process from membership, rental and return \n",
      "back has become automatic. Through these systems, user is able to easily rent a bike from a particular position and return \n",
      "back at another position. Currently, there are about over 500 bike-sharing programs around the world which is composed of \n",
      "over 500 thousands bicycles. Today, there exists great interest in these systems due to their important role in traffic, \n",
      "environmental and health issues. \n",
      "\n",
      "Apart from interesting real world applications of bike sharing systems, the characteristics of data being generated by\n",
      "these systems make them attractive for the research. Opposed to other transport services such as bus or subway, the duration\n",
      "of travel, departure and arrival position is explicitly recorded in these systems. This feature turns bike sharing system into\n",
      "a virtual sensor network that can be used for sensing mobility in the city. Hence, it is expected that most of important\n",
      "events in the city could be detected via monitoring these data.\n",
      "\n",
      "=========================================\n",
      "Data Set\n",
      "=========================================\n",
      "Bike-sharing rental process is highly correlated to the environmental and seasonal settings. For instance, weather conditions,\n",
      "precipitation, day of week, season, hour of the day, etc. can affect the rental behaviors. The core data set is related to  \n",
      "the two-year historical log corresponding to years 2011 and 2012 from Capital Bikeshare system, Washington D.C., USA which is \n",
      "publicly available in http://capitalbikeshare.com/system-data. We aggregated the data on two hourly and daily basis and then \n",
      "extracted and added the corresponding weather and seasonal information. Weather information are extracted from http://www.freemeteo.com. \n",
      "\n",
      "=========================================\n",
      "Associated tasks\n",
      "=========================================\n",
      "\n",
      "\t- Regression: \n",
      "\t\tPredication of bike rental count hourly or daily based on the environmental and seasonal settings.\n",
      "\t\n",
      "\t- Event and Anomaly Detection:  \n",
      "\t\tCount of rented bikes are also correlated to some events in the town which easily are traceable via search engines.\n",
      "\t\tFor instance, query like \"2012-10-30 washington d.c.\" in Google returns related results to Hurricane Sandy. Some of the important events are \n",
      "\t\tidentified in [1]. Therefore the data can be used for validation of anomaly or event detection algorithms as well.\n",
      "\n",
      "\n",
      "=========================================\n",
      "Files\n",
      "=========================================\n",
      "\n",
      "\t- Readme.txt\n",
      "\t- hour.csv : bike sharing counts aggregated on hourly basis. Records: 17379 hours\n",
      "\t- day.csv - bike sharing counts aggregated on daily basis. Records: 731 days\n",
      "\n",
      "\t\n",
      "=========================================\n",
      "Dataset characteristics\n",
      "=========================================\t\n",
      "Both hour.csv and day.csv have the following fields, except hr which is not available in day.csv\n",
      "\t\n",
      "\t- instant: record index\n",
      "\t- dteday : date\n",
      "\t- season : season (1:springer, 2:summer, 3:fall, 4:winter)\n",
      "\t- yr : year (0: 2011, 1:2012)\n",
      "\t- mnth : month ( 1 to 12)\n",
      "\t- hr : hour (0 to 23)\n",
      "\t- holiday : weather day is holiday or not (extracted from http://dchr.dc.gov/page/holiday-schedule)\n",
      "\t- weekday : day of the week\n",
      "\t- workingday : if day is neither weekend nor holiday is 1, otherwise is 0.\n",
      "\t+ weathersit : \n",
      "\t\t- 1: Clear, Few clouds, Partly cloudy, Partly cloudy\n",
      "\t\t- 2: Mist + Cloudy, Mist + Broken clouds, Mist + Few clouds, Mist\n",
      "\t\t- 3: Light Snow, Light Rain + Thunderstorm + Scattered clouds, Light Rain + Scattered clouds\n",
      "\t\t- 4: Heavy Rain + Ice Pallets + Thunderstorm + Mist, Snow + Fog\n",
      "\t- temp : Normalized temperature in Celsius. The values are divided to 41 (max)\n",
      "\t- atemp: Normalized feeling temperature in Celsius. The values are divided to 50 (max)\n",
      "\t- hum: Normalized humidity. The values are divided to 100 (max)\n",
      "\t- windspeed: Normalized wind speed. The values are divided to 67 (max)\n",
      "\t- casual: count of casual users\n",
      "\t- registered: count of registered users\n",
      "\t- cnt: count of total rental bikes including both casual and registered\n",
      "\t\n",
      "=========================================\n",
      "License\n",
      "=========================================\n",
      "Use of this dataset in publications must be cited to the following publication:\n",
      "\n",
      "[1] Fanaee-T, Hadi, and Gama, Joao, \"Event labeling combining ensemble detectors and background knowledge\", Progress in Artificial Intelligence (2013): pp. 1-15, Springer Berlin Heidelberg, doi:10.1007/s13748-013-0040-3.\n",
      "\n",
      "@article{\n",
      "\tyear={2013},\n",
      "\tissn={2192-6352},\n",
      "\tjournal={Progress in Artificial Intelligence},\n",
      "\tdoi={10.1007/s13748-013-0040-3},\n",
      "\ttitle={Event labeling combining ensemble detectors and background knowledge},\n",
      "\turl={http://dx.doi.org/10.1007/s13748-013-0040-3},\n",
      "\tpublisher={Springer Berlin Heidelberg},\n",
      "\tkeywords={Event labeling; Event detection; Ensemble learning; Background knowledge},\n",
      "\tauthor={Fanaee-T, Hadi and Gama, Joao},\n",
      "\tpages={1-15}\n",
      "}\n",
      "\n",
      "=========================================\n",
      "Contact\n",
      "=========================================\n",
      "\t\n",
      "For further information about this dataset please contact Hadi Fanaee-T (hadi.fanaee@fe.up.pt)\n",
      "\n"
     ]
    }
   ],
   "source": [
    "# get details about the bikeshare data\n",
    "with open(wd + 'bikeshare.txt') as f:\n",
    "    print f.read()"
   ]
  },
  {
   "cell_type": "markdown",
   "metadata": {},
   "source": [
    "### Check the data types of all columns"
   ]
  },
  {
   "cell_type": "code",
   "execution_count": 4,
   "metadata": {
    "collapsed": false,
    "scrolled": true
   },
   "outputs": [
    {
     "data": {
      "text/plain": [
       "instant         int64\n",
       "dteday         object\n",
       "season          int64\n",
       "yr              int64\n",
       "mnth            int64\n",
       "hr              int64\n",
       "holiday         int64\n",
       "weekday         int64\n",
       "workingday      int64\n",
       "weathersit      int64\n",
       "temp          float64\n",
       "atemp         float64\n",
       "hum           float64\n",
       "windspeed     float64\n",
       "casual          int64\n",
       "registered      int64\n",
       "cnt             int64\n",
       "dtype: object"
      ]
     },
     "execution_count": 4,
     "metadata": {},
     "output_type": "execute_result"
    }
   ],
   "source": [
    "bike_data.dtypes"
   ]
  },
  {
   "cell_type": "markdown",
   "metadata": {},
   "source": [
    "### All columns that are to be used to fit the model need to be numerical (int or float).\n",
    "Here `dteday` is not numerical and must be removed or converted to numerical. Dates are not always useful as a feature. It is often better to convert dates to weekday, which is what is contained in the `weekday` column. If you are interested in knowing how a date can be converted to a weekday number, see the code section below. It uses the `weekday()` function from the `datetime` package. Read more about it [here](https://docs.python.org/2/library/datetime.html#datetime.date.weekday)."
   ]
  },
  {
   "cell_type": "code",
   "execution_count": 6,
   "metadata": {
    "collapsed": false
   },
   "outputs": [],
   "source": [
    "from datetime import datetime\n",
    "\n",
    "# this check allows this code to be run multiple times\n",
    "if 'dteday' in bike_data.columns:\n",
    "    # Convert date to weekday\n",
    "    bike_data['weekday'] = bike_data['dteday'].apply(\n",
    "        lambda x: datetime.strptime(x, '%Y-%m-%d').weekday()\n",
    "    )\n",
    "    # Remove dteday\n",
    "    bike_data.drop(['dteday'], axis=1, inplace=True)"
   ]
  },
  {
   "cell_type": "markdown",
   "metadata": {},
   "source": [
    "### Now let's get dummy variables for weekday\n",
    "\n",
    "As previously mentioned, even though weekday is a number, perhaps it is better to treat it as a categorical variable and create dummy variables."
   ]
  },
  {
   "cell_type": "code",
   "execution_count": 10,
   "metadata": {
    "collapsed": true
   },
   "outputs": [],
   "source": [
    "# this check allows this code to be run multiple times\n",
    "if 'weekday' in bike_data.columns:\n",
    "    # get dummy variables for weekday\n",
    "    bike_data = bike_data.join(pd.get_dummies(bike_data['weekday'], prefix='weekday'))\n",
    "    # remove weekday\n",
    "    bike_data.drop(['weekday'], axis=1, inplace=True)"
   ]
  },
  {
   "cell_type": "markdown",
   "metadata": {},
   "source": [
    "### Now we're ready to train a model"
   ]
  },
  {
   "cell_type": "code",
   "execution_count": 11,
   "metadata": {
    "collapsed": false
   },
   "outputs": [],
   "source": [
    "# set independent variables\n",
    "# here you can manually choose which columns to use\n",
    "# X = bike_data[['season', 'temp']]\n",
    "# or remove the columns you do not want to use\n",
    "X = bike_data.drop(['casual', 'registered', 'cnt'], axis=1)\n",
    "\n",
    "# set dependent variable\n",
    "y = bike_data['registered']"
   ]
  },
  {
   "cell_type": "code",
   "execution_count": 12,
   "metadata": {
    "collapsed": false
   },
   "outputs": [
    {
     "name": "stdout",
     "output_type": "stream",
     "text": [
      "R-squared: 0.335694432332\n"
     ]
    }
   ],
   "source": [
    "# Create linear regression object\n",
    "lm = linear_model.LinearRegression()\n",
    "\n",
    "# Fit the model\n",
    "lm.fit(X, y)\n",
    "\n",
    "# Score model\n",
    "print \"R-squared: \" + str(lm.score(X, y))"
   ]
  },
  {
   "cell_type": "markdown",
   "metadata": {
    "collapsed": false
   },
   "source": [
    "### Now let's also get dummy variables for the `weathersit` feature"
   ]
  },
  {
   "cell_type": "code",
   "execution_count": 13,
   "metadata": {
    "collapsed": false
   },
   "outputs": [],
   "source": [
    "# this check allows this code to be run multiple times\n",
    "if 'weathersit' in bike_data.columns:\n",
    "    # get dummy variables for weathersit\n",
    "    X = X.join(pd.get_dummies(X['weathersit'], prefix='weathersit'))\n",
    "    # remove weathersit\n",
    "    X.drop(['weathersit'], axis=1, inplace=True)"
   ]
  },
  {
   "cell_type": "code",
   "execution_count": 14,
   "metadata": {
    "collapsed": false
   },
   "outputs": [
    {
     "name": "stdout",
     "output_type": "stream",
     "text": [
      "R-squared: 0.338341281134\n"
     ]
    }
   ],
   "source": [
    "# Create linear regression object\n",
    "lm = linear_model.LinearRegression()\n",
    "\n",
    "# Fit the model\n",
    "lm.fit(X, y)\n",
    "\n",
    "# Score model\n",
    "print \"R-squared: \" + str(lm.score(X, y))"
   ]
  },
  {
   "cell_type": "markdown",
   "metadata": {},
   "source": [
    "### Now let's also get dummy variables for the `hr` feature"
   ]
  },
  {
   "cell_type": "code",
   "execution_count": 15,
   "metadata": {
    "collapsed": false
   },
   "outputs": [],
   "source": [
    "# this check allows this code to be run multiple times\n",
    "if 'hr' in bike_data.columns:\n",
    "    # get dummy variables for hr\n",
    "    X = X.join(pd.get_dummies(X['hr'], prefix='hr'))\n",
    "    # remove hr\n",
    "    X.drop(['hr'], axis=1, inplace=True)"
   ]
  },
  {
   "cell_type": "code",
   "execution_count": 16,
   "metadata": {
    "collapsed": false
   },
   "outputs": [
    {
     "name": "stdout",
     "output_type": "stream",
     "text": [
      "R-squared: 0.676941859387\n"
     ]
    }
   ],
   "source": [
    "# Create linear regression object\n",
    "lm = linear_model.LinearRegression()\n",
    "\n",
    "# Fit the model\n",
    "lm.fit(X, y)\n",
    "\n",
    "# Score model\n",
    "print \"R-squared: \" + str(lm.score(X, y))"
   ]
  },
  {
   "cell_type": "markdown",
   "metadata": {
    "collapsed": true
   },
   "source": [
    "### As an exercise, create dummy variables for the `season` feature and check the model score"
   ]
  },
  {
   "cell_type": "code",
   "execution_count": 17,
   "metadata": {
    "collapsed": false
   },
   "outputs": [],
   "source": [
    "if 'season' in bike_data.columns:\n",
    "    # get dummy variables for season\n",
    "    X = X.join(pd.get_dummies(X['season'], prefix='season'))\n",
    "    # remove hr\n",
    "    X.drop(['season'], axis=1, inplace=True)"
   ]
  },
  {
   "cell_type": "code",
   "execution_count": 18,
   "metadata": {
    "collapsed": false
   },
   "outputs": [
    {
     "name": "stdout",
     "output_type": "stream",
     "text": [
      "R-squared: 0.679148138732\n"
     ]
    }
   ],
   "source": [
    "# Create linear regression object\n",
    "lm = linear_model.LinearRegression()\n",
    "\n",
    "# Fit the model\n",
    "lm.fit(X, y)\n",
    "\n",
    "# Score model\n",
    "print \"R-squared: \" + str(lm.score(X, y))"
   ]
  }
 ],
 "metadata": {
  "kernelspec": {
   "display_name": "Python 2",
   "language": "python",
   "name": "python2"
  },
  "language_info": {
   "codemirror_mode": {
    "name": "ipython",
    "version": 2
   },
   "file_extension": ".py",
   "mimetype": "text/x-python",
   "name": "python",
   "nbconvert_exporter": "python",
   "pygments_lexer": "ipython2",
   "version": "2.7.11"
  }
 },
 "nbformat": 4,
 "nbformat_minor": 0
}
